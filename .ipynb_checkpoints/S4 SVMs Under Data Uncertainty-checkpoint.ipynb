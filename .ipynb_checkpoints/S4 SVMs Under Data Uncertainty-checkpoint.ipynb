{
 "cells": [
  {
   "cell_type": "markdown",
   "metadata": {},
   "source": [
    "# 4. SVMs Under Data Uncertainty"
   ]
  },
  {
   "cell_type": "code",
   "execution_count": 227,
   "metadata": {},
   "outputs": [
    {
     "name": "stdout",
     "output_type": "stream",
     "text": [
      "\n"
     ]
    }
   ],
   "source": [
    "%Parameters\n",
    "splitVal = 0.2; %percentage of dataset split to test set\n",
    "kf_split = 5;  %number of splits for k-folds cross validation"
   ]
  },
  {
   "cell_type": "markdown",
   "metadata": {},
   "source": [
    "We will also need to implement some functions to return the accuracy and F1-scores for our predictions."
   ]
  },
  {
   "cell_type": "code",
   "execution_count": 66,
   "metadata": {},
   "outputs": [
    {
     "name": "stdout",
     "output_type": "stream",
     "text": [
      "Created file 'C:\\Users\\Daniel\\Desktop\\Uni\\Postgrad\\1st Year\\Term 2\\COMP9417\\Project\\COMP9417-Project-Robust-SVMS-and-Breast-Cancer-Classification\\S4 SVMs Under Data Uncertainty\\accuracy.m'.\n"
     ]
    }
   ],
   "source": [
    "%%file accuracy.m\n",
    "\n",
    "function acc = accuracy(targ, pred)\n",
    "   if length(targ) ~= length(pred)\n",
    "       error(\"Input dimensions do not match.\")\n",
    "   end\n",
    "   acc = sum(targ==pred)/length(targ);\n",
    "end "
   ]
  },
  {
   "cell_type": "code",
   "execution_count": 89,
   "metadata": {},
   "outputs": [
    {
     "name": "stdout",
     "output_type": "stream",
     "text": [
      "Created file 'C:\\Users\\Daniel\\Desktop\\Uni\\Postgrad\\1st Year\\Term 2\\COMP9417\\Project\\COMP9417-Project-Robust-SVMS-and-Breast-Cancer-Classification\\S4 SVMs Under Data Uncertainty\\f1_score.m'.\n"
     ]
    }
   ],
   "source": [
    "%%file f1_score.m\n",
    "\n",
    "function acc = f1_score(targ, pred)\n",
    "    % need to map -1 to 0 in both target and prediction to use MATLABs roc\n",
    "    %targ = 0.5*(targ+1);\n",
    "    %pred = 0.5*(pred+1);\n",
    "    C = confusionmat(targ, pred);\n",
    "    TP = C(1,1); \n",
    "    FP = C(2,1);\n",
    "    FN = C(1,2);\n",
    "    acc = TP/(TP + 0.5*(FP + FN));\n",
    "end"
   ]
  },
  {
   "cell_type": "markdown",
   "metadata": {},
   "source": [
    "### Import data into matrix, and split"
   ]
  },
  {
   "cell_type": "code",
   "execution_count": 101,
   "metadata": {},
   "outputs": [
    {
     "name": "stdout",
     "output_type": "stream",
     "text": [
      "\n",
      "m =\n",
      "\n",
      "   569\n",
      "\n",
      "\n",
      "n =\n",
      "\n",
      "    26\n",
      "\n",
      "Proportion of classes that are negative: 62.7%\n",
      "\n"
     ]
    }
   ],
   "source": [
    "%import into a matrix\n",
    "ds = readmatrix('processed_data.csv');\n",
    "m = size(ds,1) %number of data points\n",
    "n = size(ds,2) %number of features (including target)\n",
    "%recall: class distribution is slightly unbalanced\n",
    "fprintf(\"Proportion of classes that are negative: %.1f%%\\n\", sum(ds(:,1)==-1)/m*100)"
   ]
  },
  {
   "cell_type": "code",
   "execution_count": 105,
   "metadata": {},
   "outputs": [
    {
     "name": "stdout",
     "output_type": "stream",
     "text": [
      "\n",
      "ans =\n",
      "\n",
      "   455    25\n",
      "\n",
      "\n",
      "ans =\n",
      "\n",
      "   114    25\n",
      "\n",
      "\n"
     ]
    }
   ],
   "source": [
    "%shuffle rows for proper randomisation\n",
    "P = randperm(m);\n",
    "ds = ds(P,:);\n",
    "%split into datapoints/target and training/test sets\n",
    "splitIndex = floor(m*(1-splitVal));\n",
    "X_train = ds(1:splitIndex,2:end); y_train = ds(1:splitIndex,1);\n",
    "X_test = ds(splitIndex+1:end,2:end); y_test = ds(splitIndex+1:end,1);\n",
    "size(X_train)\n",
    "size(X_test)"
   ]
  },
  {
   "cell_type": "markdown",
   "metadata": {},
   "source": [
    "# Model Classes\n",
    "\n",
    "We implement our four models as classes. Each of them derives from a parent class ``SVM()`` which has several methods: an initialisation, ``fit`` (to fit to training data), ``predict`` (to predict from test data), and ``show`` (to print the model parameters ``w`` and ``gamma``)."
   ]
  },
  {
   "cell_type": "code",
   "execution_count": 251,
   "metadata": {},
   "outputs": [
    {
     "name": "stdout",
     "output_type": "stream",
     "text": [
      "Created file 'C:\\Users\\Daniel\\Desktop\\Uni\\Postgrad\\1st Year\\Term 2\\COMP9417\\Project\\COMP9417-Project-Robust-SVMS-and-Breast-Cancer-Classification\\S4 SVMs Under Data Uncertainty\\SVM.m'.\n"
     ]
    }
   ],
   "source": [
    "%%file SVM.m\n",
    "\n",
    "classdef SVM < handle\n",
    "    \n",
    "   properties \n",
    "       w;      %weight\n",
    "       gamma;  %bias\n",
    "   end\n",
    "   \n",
    "   methods\n",
    "       \n",
    "       %%% __init__\n",
    "       function model = SVM(w,gamma)\n",
    "           model.w = [];\n",
    "           model.gamma = [];\n",
    "       end\n",
    "       \n",
    "       %%% fit to data\n",
    "       function [] = fit(obj,X,y)\n",
    "           %%% overriden by children classes \n",
    "           n = size(X,2);\n",
    "           obj.w = zeros(n,1);\n",
    "           obj.gamma = 0;\n",
    "       end\n",
    "       \n",
    "       %%% predict from data\n",
    "       function pred = predict(obj,X)\n",
    "           m = size(X,1);\n",
    "           pred = zeros(m,1);\n",
    "           for i = 1:m\n",
    "               pred(i) = sign(obj.w'*X(i,:)' - obj.gamma);\n",
    "           end\n",
    "       end\n",
    "       \n",
    "       %%$ fit and predict\n",
    "       function [acc, f1] = run(obj,X_train,y_train,X_test,y_test)\n",
    "           try\n",
    "               obj.fit(X_train,y_train);\n",
    "               pred = obj.predict(X_test);\n",
    "               acc = accuracy(y_test,pred);\n",
    "               f1 = f1_score(y_test,pred);\n",
    "           catch %i.e. optimisation problem was infeasible\n",
    "               acc = 0;\n",
    "               f1 = 0;\n",
    "           end\n",
    "       end\n",
    "       \n",
    "       %%% display\n",
    "       function [] = show(obj)\n",
    "           obj.w\n",
    "           obj.gamma\n",
    "       end\n",
    "   end\n",
    "end"
   ]
  },
  {
   "cell_type": "markdown",
   "metadata": {},
   "source": [
    "### Standard SVM Model"
   ]
  },
  {
   "cell_type": "code",
   "execution_count": 228,
   "metadata": {},
   "outputs": [
    {
     "name": "stdout",
     "output_type": "stream",
     "text": [
      "Created file 'C:\\Users\\Daniel\\Desktop\\Uni\\Postgrad\\1st Year\\Term 2\\COMP9417\\Project\\COMP9417-Project-Robust-SVMS-and-Breast-Cancer-Classification\\S4 SVMs Under Data Uncertainty\\standardSVM.m'.\n"
     ]
    }
   ],
   "source": [
    "%%file standardSVM.m\n",
    "\n",
    "classdef standardSVM < SVM\n",
    "    properties %(Access = private)\n",
    "        lambda %regularization parameter \n",
    "    end\n",
    "    \n",
    "    methods \n",
    "        %%% __init__\n",
    "        function model = standardSVM(lambda)\n",
    "            model = model@SVM();\n",
    "            if nargin == 0\n",
    "                model.lambda = 0.5;\n",
    "            elseif nargin == 1\n",
    "                model.lambda = lambda;\n",
    "            else\n",
    "                error(\"Incorrect parameters passed to class SVM. Initialise with either (a) lambda, or (b) no inputs.\\n\")\n",
    "            end\n",
    "        end\n",
    "        \n",
    "        %%% fit\n",
    "        function [] = fit(obj,X,y)\n",
    "            [obj.w, obj.gamma, ~] = standard_svm(X,y,obj.lambda);\n",
    "        end \n",
    "        \n",
    "        %%% display\n",
    "       function [] = show(obj)\n",
    "           namestr = obj.getobjname();\n",
    "           fprintf(\"%s.w:\\n\", namestr)\n",
    "           details(obj.w)\n",
    "           fprintf(\"%s.gamma:\\n\", namestr);\n",
    "           details(obj.gamma)\n",
    "           fprintf(\"%s.lambda:\\n\", namestr);\n",
    "           details(obj.lambda)\n",
    "       end\n",
    "       \n",
    "       %%% object name\n",
    "       function namestr = getobjname(obj)\n",
    "           namestr = inputname(1);\n",
    "       end\n",
    "       \n",
    "       %%% change regularization parameter\n",
    "       function [] = retune(obj,new_lambda)\n",
    "           obj.lambda = new_lambda; \n",
    "       end\n",
    "    end   \n",
    "end"
   ]
  },
  {
   "cell_type": "code",
   "execution_count": 142,
   "metadata": {},
   "outputs": [
    {
     "name": "stdout",
     "output_type": "stream",
     "text": [
      "\n",
      "standard_acc =\n",
      "\n",
      "    0.9737\n",
      "\n",
      "\n",
      "standard_f1 =\n",
      "\n",
      "    0.9804\n",
      "\n",
      "\n"
     ]
    }
   ],
   "source": [
    "model = standardSVM(0.05);\n",
    "model.fit(X_train,y_train);\n",
    "pred = model.predict(X_test);\n",
    "standard_acc = accuracy(y_test,pred)\n",
    "standard_f1 = f1_score(y_test,pred)"
   ]
  },
  {
   "cell_type": "markdown",
   "metadata": {},
   "source": [
    "### Model 2: $L_1-$SVM"
   ]
  },
  {
   "cell_type": "code",
   "execution_count": 229,
   "metadata": {},
   "outputs": [
    {
     "name": "stdout",
     "output_type": "stream",
     "text": [
      "Created file 'C:\\Users\\Daniel\\Desktop\\Uni\\Postgrad\\1st Year\\Term 2\\COMP9417\\Project\\COMP9417-Project-Robust-SVMS-and-Breast-Cancer-Classification\\S4 SVMs Under Data Uncertainty\\L1SVM.m'.\n"
     ]
    }
   ],
   "source": [
    "%%file L1SVM.m\n",
    "\n",
    "classdef L1SVM < SVM\n",
    "    properties %(Access = private)\n",
    "        lambda %regularization parameter \n",
    "    end\n",
    "    \n",
    "    methods \n",
    "        %%% __init__\n",
    "        function model = L1SVM(lambda)\n",
    "            model = model@SVM();\n",
    "            if nargin == 0\n",
    "                model.lambda = 0.5;\n",
    "            elseif nargin == 1\n",
    "                model.lambda = lambda;\n",
    "            else\n",
    "                error(\"Incorrect parameters passed to class SVM. Initialise with either (a) lambda, or (b) no inputs.\\n\")\n",
    "            end\n",
    "        end\n",
    "        \n",
    "        %%% fit\n",
    "        function [] = fit(obj,X,y)\n",
    "            [obj.w, obj.gamma, ~] = l1_svm(X,y,obj.lambda);\n",
    "        end \n",
    "        \n",
    "        %%% display\n",
    "       function [] = show(obj)\n",
    "           namestr = obj.getobjname();\n",
    "           fprintf(\"%s.w:\\n\", namestr)\n",
    "           details(obj.w)\n",
    "           fprintf(\"%s.gamma:\\n\", namestr);\n",
    "           details(obj.gamma)\n",
    "           fprintf(\"%s.lambda:\\n\", namestr);\n",
    "           details(obj.lambda)\n",
    "       end\n",
    "       \n",
    "       %%% object name\n",
    "       function namestr = getobjname(obj)\n",
    "           namestr = inputname(1);\n",
    "       end\n",
    "       \n",
    "       %%% change regularization parameter\n",
    "       function [] = retune(obj,new_lambda)\n",
    "           obj.lambda = new_lambda; \n",
    "       end\n",
    "    end   \n",
    "end"
   ]
  },
  {
   "cell_type": "code",
   "execution_count": 148,
   "metadata": {},
   "outputs": [
    {
     "name": "stdout",
     "output_type": "stream",
     "text": [
      "\n",
      "standard_acc =\n",
      "\n",
      "    0.9649\n",
      "\n",
      "\n",
      "standard_f1 =\n",
      "\n",
      "    0.9740\n",
      "\n",
      "\n"
     ]
    }
   ],
   "source": [
    "model = L1SVM(0.05);\n",
    "model.fit(X_train,y_train);\n",
    "pred = model.predict(X_test);\n",
    "standard_acc = accuracy(y_test,pred)\n",
    "standard_f1 = f1_score(y_test,pred)"
   ]
  },
  {
   "cell_type": "markdown",
   "metadata": {},
   "source": [
    "### Model 3: DrSVM"
   ]
  },
  {
   "cell_type": "code",
   "execution_count": 230,
   "metadata": {},
   "outputs": [
    {
     "name": "stdout",
     "output_type": "stream",
     "text": [
      "Created file 'C:\\Users\\Daniel\\Desktop\\Uni\\Postgrad\\1st Year\\Term 2\\COMP9417\\Project\\COMP9417-Project-Robust-SVMS-and-Breast-Cancer-Classification\\S4 SVMs Under Data Uncertainty\\DrSVM.m'.\n"
     ]
    }
   ],
   "source": [
    "%%file DrSVM.m\n",
    "\n",
    "classdef DrSVM < SVM\n",
    "    properties %(Access = private)\n",
    "        nu %regularization parameter \n",
    "    end\n",
    "    \n",
    "    methods \n",
    "        %%% __init__\n",
    "        function model = DrSVM(nu)\n",
    "            model = model@SVM();\n",
    "            if nargin == 0\n",
    "                model.nu = 10;\n",
    "            elseif nargin == 1\n",
    "                model.nu = nu;\n",
    "            else\n",
    "                error(\"Incorrect parameters passed to class SVM. Initialise with either (a) nu, or (b) no inputs.\\n\")\n",
    "            end\n",
    "        end\n",
    "        \n",
    "        %%% fit\n",
    "        function [] = fit(obj,X,y)\n",
    "            [obj.w, obj.gamma, ~] = l1_svm(X,y,obj.nu);\n",
    "        end \n",
    "        \n",
    "        %%% display\n",
    "       function [] = show(obj)\n",
    "           namestr = obj.getobjname();\n",
    "           fprintf(\"%s.w:\\n\", namestr)\n",
    "           details(obj.w)\n",
    "           fprintf(\"%s.gamma:\\n\", namestr);\n",
    "           details(obj.gamma)\n",
    "           fprintf(\"%s.nu:\\n\", namestr);\n",
    "           details(obj.nu)\n",
    "       end\n",
    "       \n",
    "       %%% object name\n",
    "       function namestr = getobjname(obj)\n",
    "           namestr = inputname(1);\n",
    "       end\n",
    "       \n",
    "       %%% change regularization parameter\n",
    "       function [] = retune(obj,new_nu)\n",
    "           obj.nu = new_nu; \n",
    "       end\n",
    "    end   \n",
    "end"
   ]
  },
  {
   "cell_type": "code",
   "execution_count": 153,
   "metadata": {},
   "outputs": [
    {
     "name": "stdout",
     "output_type": "stream",
     "text": [
      "\n",
      "standard_acc =\n",
      "\n",
      "    0.9825\n",
      "\n",
      "\n",
      "standard_f1 =\n",
      "\n",
      "    0.9867\n",
      "\n",
      "\n"
     ]
    }
   ],
   "source": [
    "model = DrSVM(128);\n",
    "model.fit(X_train,y_train);\n",
    "pred = model.predict(X_test);\n",
    "standard_acc = accuracy(y_test,pred)\n",
    "standard_f1 = f1_score(y_test,pred)"
   ]
  },
  {
   "cell_type": "markdown",
   "metadata": {},
   "source": [
    "### Model 4: Robust SVM\n",
    "\n",
    "For this model, the uncertainty radii $r_i$ are not passed in at initialisation but, rather, at fitting. "
   ]
  },
  {
   "cell_type": "code",
   "execution_count": 231,
   "metadata": {},
   "outputs": [
    {
     "name": "stdout",
     "output_type": "stream",
     "text": [
      "Created file 'C:\\Users\\Daniel\\Desktop\\Uni\\Postgrad\\1st Year\\Term 2\\COMP9417\\Project\\COMP9417-Project-Robust-SVMS-and-Breast-Cancer-Classification\\S4 SVMs Under Data Uncertainty\\robustSVM.m'.\n"
     ]
    }
   ],
   "source": [
    "%%file robustSVM.m\n",
    "\n",
    "classdef robustSVM < SVM\n",
    "    properties %(Access = private)\n",
    "        lambda %regularization parameter \n",
    "    end\n",
    "    \n",
    "    methods \n",
    "        %%% __init__\n",
    "        function model = robustSVM(lambda)\n",
    "            model = model@SVM();\n",
    "            if nargin == 0\n",
    "                model.lambda = 0.05;\n",
    "            elseif nargin == 1\n",
    "                model.lambda = lambda;\n",
    "            else\n",
    "                error(\"Incorrect parameters passed to class SVM. Initialise with either (a) lambda, or (b) no inputs.\\n\")\n",
    "            end\n",
    "        end\n",
    "        \n",
    "        %%% fit\n",
    "        function [] = fit(obj,X,y,r)\n",
    "            if nargin == 3 %no ro given; make all zeros\n",
    "                m = size(X,1);\n",
    "                r = zeros(m,1);\n",
    "            end\n",
    "            [obj.w, obj.gamma, ~] = rob_svm(X,y,obj.lambda,r);\n",
    "        end \n",
    "        \n",
    "        %%% display\n",
    "       function [] = show(obj)\n",
    "           namestr = obj.getobjname();\n",
    "           fprintf(\"%s.w:\\n\", namestr)\n",
    "           details(obj.w)\n",
    "           fprintf(\"%s.gamma:\\n\", namestr);\n",
    "           details(obj.gamma)\n",
    "           fprintf(\"%s.lambda:\\n\", namestr);\n",
    "           details(obj.lambda)\n",
    "       end\n",
    "       \n",
    "       %%% object name\n",
    "       function namestr = getobjname(obj)\n",
    "           namestr = inputname(1);\n",
    "       end\n",
    "       \n",
    "       %%% change regularization parameter\n",
    "       function [] = retune(obj,new_lambda)\n",
    "           obj.lambda = new_lambda; \n",
    "       end\n",
    "    end   \n",
    "end"
   ]
  },
  {
   "cell_type": "code",
   "execution_count": 172,
   "metadata": {},
   "outputs": [
    {
     "name": "stdout",
     "output_type": "stream",
     "text": [
      "\n",
      "standard_acc =\n",
      "\n",
      "    0.9825\n",
      "\n",
      "\n",
      "standard_f1 =\n",
      "\n",
      "    0.9868\n",
      "\n",
      "\n"
     ]
    }
   ],
   "source": [
    "m_train = size(X_train,1);\n",
    "r = zeros(m_train,1);\n",
    "for i=1:m_train\n",
    "    r(i) = 0.2*rand(1);\n",
    "end\n",
    "\n",
    "model = robustSVM(0.05);\n",
    "model.fit(X_train,y_train,r);\n",
    "pred = model.predict(X_test);\n",
    "standard_acc = accuracy(y_test,pred)\n",
    "standard_f1 = f1_score(y_test,pred)"
   ]
  },
  {
   "cell_type": "markdown",
   "metadata": {},
   "source": [
    "## Hyperparameter Tuning\n",
    "We use cross validation with ``kf_splits`` splits to determine the optimal hyperparameter tuning for the models. We let $\\lambda$ range over $[0, 1]$ and $\\nu$ range over $[2, 2^{15}]$, doubling each time."
   ]
  },
  {
   "cell_type": "code",
   "execution_count": 203,
   "metadata": {},
   "outputs": [
    {
     "name": "stdout",
     "output_type": "stream",
     "text": [
      "Created file 'C:\\Users\\Daniel\\Desktop\\Uni\\Postgrad\\1st Year\\Term 2\\COMP9417\\Project\\COMP9417-Project-Robust-SVMS-and-Breast-Cancer-Classification\\S4 SVMs Under Data Uncertainty\\kfolds_index.m'.\n"
     ]
    }
   ],
   "source": [
    "%%file kfolds_index.m\n",
    "\n",
    "function [train_ind, val_ind] = kfolds_index(X, kf_splits)\n",
    "    % X: training instances to apply k-Folds to\n",
    "    % kf_splits: Number of folds to create\n",
    "    % Returns: ??_ind: cell of size kf_splits, each cell contains array of indices\n",
    "    train_ind = cell(kf_splits,1);\n",
    "    val_ind = cell(kf_splits,1);\n",
    "    m = size(X,1);\n",
    "    for i = 1:kf_splits\n",
    "        split_index = [floor(m*(i-1)/kf_splits) floor(m*i/kf_splits)];\n",
    "        train_ind{i} = [1:split_index(1) split_index(2)+1:m];\n",
    "        val_ind{i} = split_index(1)+1:split_index(2);\n",
    "    end\n",
    "end"
   ]
  },
  {
   "cell_type": "code",
   "execution_count": 247,
   "metadata": {},
   "outputs": [
    {
     "name": "stdout",
     "output_type": "stream",
     "text": [
      "Created file 'C:\\Users\\Daniel\\Desktop\\Uni\\Postgrad\\1st Year\\Term 2\\COMP9417\\Project\\COMP9417-Project-Robust-SVMS-and-Breast-Cancer-Classification\\S4 SVMs Under Data Uncertainty\\parameter_tune.m'.\n"
     ]
    }
   ],
   "source": [
    "%%file parameter_tune.m\n",
    "\n",
    "function [] = parameter_tune(model, kf_split, X, y)\n",
    "    if isa(model, 'DrSVM')\n",
    "        param = 2.^[-5:5];\n",
    "    else\n",
    "        param = [0:0.05:1];\n",
    "        param(1) = 0.01;\n",
    "    end\n",
    "    best_acc = 0;\n",
    "    best_p = 0;\n",
    "    for p = param\n",
    "        model.retune(p);\n",
    "        accs = zeros(kf_split,1);\n",
    "        [t, v] = kfolds_index(X, kf_split);\n",
    "        for i = 1:kf_split\n",
    "            train_index = t{i};\n",
    "            val_index = v{i};\n",
    "            X_train = X(train_index,:);\n",
    "            X_val = X(val_index,:);\n",
    "            y_train = y(train_index);\n",
    "            y_val = y(val_index);\n",
    "            try\n",
    "                model.fit(X_train, y_train);\n",
    "                accs(i) = accuracy(y_val, model.predict(X_val));\n",
    "            catch\n",
    "                accs(i) = 0;\n",
    "            end\n",
    "        end\n",
    "        if mean(accs) > best_acc\n",
    "            best_acc = mean(accs);\n",
    "            best_p = p;\n",
    "        end\n",
    "    end\n",
    "    fprintf(\"Highest Mean Accuracy of %.2f achieved by p = %.2f\\n\", best_acc, best_p)\n",
    "end"
   ]
  },
  {
   "cell_type": "code",
   "execution_count": 243,
   "metadata": {},
   "outputs": [
    {
     "name": "stdout",
     "output_type": "stream",
     "text": [
      "\n",
      "best_acc =\n",
      "\n",
      "    0.7604\n",
      "\n",
      "\n",
      "best_p =\n",
      "\n",
      "    0.0100\n",
      "\n",
      "\n",
      "best_acc =\n",
      "\n",
      "    0.7780\n",
      "\n",
      "\n",
      "best_p =\n",
      "\n",
      "    0.0500\n",
      "\n",
      "Highest Mean Accuracy of 0.78 achieved by p = 0.05\n",
      "\n",
      "best_acc =\n",
      "\n",
      "    0.9253\n",
      "\n",
      "\n",
      "best_p =\n",
      "\n",
      "    0.0100\n",
      "\n",
      "\n",
      "best_acc =\n",
      "\n",
      "    0.9648\n",
      "\n",
      "\n",
      "best_p =\n",
      "\n",
      "    0.0500\n",
      "\n",
      "\n",
      "best_acc =\n",
      "\n",
      "    0.9692\n",
      "\n",
      "\n",
      "best_p =\n",
      "\n",
      "    0.1500\n",
      "\n",
      "\n",
      "best_acc =\n",
      "\n",
      "    0.9714\n",
      "\n",
      "\n",
      "best_p =\n",
      "\n",
      "    0.2500\n",
      "\n",
      "\n",
      "best_acc =\n",
      "\n",
      "    0.9736\n",
      "\n",
      "\n",
      "best_p =\n",
      "\n",
      "    0.6500\n",
      "\n",
      "\n",
      "best_acc =\n",
      "\n",
      "    0.9758\n",
      "\n",
      "\n",
      "best_p =\n",
      "\n",
      "    0.7500\n",
      "\n",
      "Highest Mean Accuracy of 0.98 achieved by p = 0.75\n",
      "\n",
      "param =\n",
      "\n",
      "  Columns 1 through 13\n",
      "\n",
      "           2           4           8          16          32          64         128         256         512        1024        2048        4096        8192\n",
      "\n",
      "  Columns 14 through 15\n",
      "\n",
      "       16384       32768\n",
      "\n",
      "\n",
      "best_acc =\n",
      "\n",
      "    0.9692\n",
      "\n",
      "\n",
      "best_p =\n",
      "\n",
      "     2\n",
      "\n",
      "Highest Mean Accuracy of 0.97 achieved by p = 2.00\n",
      "\n",
      "best_acc =\n",
      "\n",
      "    0.9604\n",
      "\n",
      "\n",
      "best_p =\n",
      "\n",
      "    0.0100\n",
      "\n",
      "\n",
      "best_acc =\n",
      "\n",
      "    0.9780\n",
      "\n",
      "\n",
      "best_p =\n",
      "\n",
      "    0.0500\n",
      "\n",
      "Highest Mean Accuracy of 0.98 achieved by p = 0.05\n",
      "\n"
     ]
    }
   ],
   "source": [
    "model = standardSVM();\n",
    "parameter_tune(model, kf_split, X_train, y_train);\n",
    "\n",
    "model = L1SVM();\n",
    "parameter_tune(model, kf_split, X_train, y_train);\n",
    "\n",
    "model = DrSVM();\n",
    "parameter_tune(model, kf_split, X_train, y_train);\n",
    "\n",
    "model = robustSVM();\n",
    "parameter_tune(model, kf_split, X_train, y_train);"
   ]
  },
  {
   "cell_type": "code",
   "execution_count": 249,
   "metadata": {},
   "outputs": [
    {
     "name": "stdout",
     "output_type": "stream",
     "text": [
      "Highest Mean Accuracy of 0.97 achieved by p = 0.25\n",
      "\n"
     ]
    }
   ],
   "source": [
    "model = DrSVM();\n",
    "parameter_tune(model, kf_split, X_train, y_train);"
   ]
  },
  {
   "cell_type": "markdown",
   "metadata": {},
   "source": [
    "## Robustness Experiments\n",
    "\n",
    "To test the robustness (resilience under data uncertainty) of our four models, we will do the following: after creating model classes for our four SVM models, for ``num_sims`` simulations,\n",
    "\n",
    "-  Split the dataset into training and test sets guided by ``splitVal``. Let $p$ be the number of training instances.\n",
    "  -  Generate vector $r\\in\\mathbb{R}^{p}$ of uncertainty radii; $r_i$ defines the size of the uncertainty region around data point $i$ in the training set, $i=1,\\dots,p$. \n",
    "  -  Perturb each training instance to a random point in its uncertainty region. \n",
    "  -  Fit the four models to the (perturbed) training set, and use the fit models to predict the class of the (unperturbed) test set. \n",
    "  \n",
    "We record the accuracy and F1-score of each model for each simulation, and display the simulation results, as well as the average over all simulations. "
   ]
  },
  {
   "cell_type": "code",
   "execution_count": null,
   "metadata": {},
   "outputs": [],
   "source": [
    "num_sims = 1;\n",
    "\n",
    "%to store results\n",
    "std_accs = zeros(1,num_sims);\n",
    "std_f1s = zeros(1,num_sims);\n",
    "l1_accs = zeros(1,num_sims);\n",
    "l1_f1s = zeros(1,num_sims);\n",
    "dr_accs = zeros(1,num_sims);\n",
    "dr_f1s = zeros(1,num_sims);\n",
    "rob_accs = zeros(1,num_sims);\n",
    "rob_f1s = zeros(1,num_sims);\n",
    "\n",
    "%models\n",
    "std = standardSVM(0.05);\n",
    "l1 = L1SVM(0.75);\n",
    "dr = DrSVM(0.25);\n",
    "rob = robustSVM(0.05);\n",
    "    \n",
    "for s = 1:num_sims\n",
    "    \n",
    "    %shuffle rows for proper randomisation\n",
    "    m = size(ds,1);\n",
    "    P = randperm(m);\n",
    "    ds = ds(P,:);\n",
    "    \n",
    "    %split into datapoints/target and training/test sets\n",
    "    splitIndex = floor(m*(1-splitVal));\n",
    "    X_train = ds(1:splitIndex,2:end); y_train = ds(1:splitIndex,1);\n",
    "    X_test = ds(splitIndex+1:end,2:end); y_test = ds(splitIndex+1:end,1);\n",
    "    \n",
    "    %generate uncertainty radii\n",
    "    p = splitIndex;\n",
    "    n = size(X_train,2);\n",
    "    r = 0.5*rand(p,1); #perturbation up to half a standard deviation\n",
    "    \n",
    "    %generate perturbations: for i=1:p, perturbation resides in ball centred at 0, radius r_i\n",
    "    U = zeros(p,n);\n",
    "    for i=1:p\n",
    "        %to generate random points in a ball, generate random point, make unit vector, and multiply by random radius\n",
    "        u = 2*rand(1,n)-1;\n",
    "        u = u/norm(u,2);\n",
    "        U(i,:) = u*r(i)*rand(1);\n",
    "    end\n",
    "    \n",
    "    %new training data\n",
    "    X_train_perturbed = X_train + U;\n",
    "    \n",
    "    %test\n",
    "    [acc, f1] = std.run(X_train_perturbed,y_train,X_test,y_test);\n",
    "    std_accs(s) = acc;\n",
    "    std_f1s(s) = f1;\n",
    "    \n",
    "    [acc, f1] = l1.run(X_train_perturbed,y_train,X_test,y_test);\n",
    "    l1_accs(s) = acc;\n",
    "    l1_f1s(s) = f1;\n",
    "    \n",
    "    [acc, f1] = dr.run(X_train_perturbed,y_train,X_test,y_test);\n",
    "    dr_accs(s) = acc;\n",
    "    dr_f1s(s) = f1;\n",
    "    \n",
    "    [acc, f1] = rob.run(X_train_perturbed,y_train,X_test,y_test);\n",
    "    rob_accs(s) = acc;\n",
    "    rob_f1s(s) = f1;\n",
    "end"
   ]
  },
  {
   "cell_type": "code",
   "execution_count": null,
   "metadata": {},
   "outputs": [],
   "source": [
    "fprintf(\"Results:\\n\")\n",
    "\n",
    "%Standard Model\n",
    "fprintf(\"Standard Accuracies: \"); \n",
    "std_accs\n",
    "fprintf(\" Mean: %.4f\\n\", mean(std_accs));\n",
    "\n",
    "fprintf(\"Standard F1s: \"); \n",
    "std_f1s\n",
    "fprintf(\" Mean: %.4f\\n\", mean(std_f1s));\n",
    "\n",
    "%L1 Model\n",
    "fprintf(\"L1SVM Accuracies: \"); \n",
    "l1_accs\n",
    "fprintf(\" Mean: %.4f\\n\", mean(l1_accs));\n",
    "\n",
    "fprintf(\"L1SVM F1s: \"); \n",
    "l1_f1s\n",
    "fprintf(\" Mean: %.4f\\n\", mean(l1_f1s));\n",
    "\n",
    "%Dr Model\n",
    "fprintf(\"DrSVM Accuracies: \"); \n",
    "dr_accs\n",
    "fprintf(\" Mean: %.4f\\n\", mean(dr_accs));\n",
    "\n",
    "fprintf(\"DrSVM F1s: \"); \n",
    "dr_f1s\n",
    "fprintf(\" Mean: %.4f\\n\", mean(dr_f1s));\n",
    "\n",
    "%Robust Model\n",
    "fprintf(\"Robust Accuracies: \"); \n",
    "rob_accs\n",
    "fprintf(\" Mean: %.4f\\n\", mean(rob_accs));\n",
    "\n",
    "fprintf(\"Robust F1s: \"); \n",
    "rob_f1s\n",
    "fprintf(\" Mean: %.4f\\n\", mean(rob_f1s));\n"
   ]
  }
 ],
 "metadata": {
  "kernelspec": {
   "display_name": "Matlab",
   "language": "matlab",
   "name": "matlab"
  },
  "language_info": {
   "codemirror_mode": "octave",
   "file_extension": ".m",
   "help_links": [
    {
     "text": "MetaKernel Magics",
     "url": "https://metakernel.readthedocs.io/en/latest/source/README.html"
    }
   ],
   "mimetype": "text/x-octave",
   "name": "matlab",
   "version": "0.16.9"
  }
 },
 "nbformat": 4,
 "nbformat_minor": 4
}
