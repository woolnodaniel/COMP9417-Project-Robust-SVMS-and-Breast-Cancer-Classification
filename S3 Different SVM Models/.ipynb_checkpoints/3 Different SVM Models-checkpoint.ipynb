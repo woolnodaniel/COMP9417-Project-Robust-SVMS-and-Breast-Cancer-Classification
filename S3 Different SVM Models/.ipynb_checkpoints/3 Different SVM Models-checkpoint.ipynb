{
 "cells": [
  {
   "cell_type": "markdown",
   "metadata": {},
   "source": [
    "# 3. Different SVM Models\n",
    "\n",
    "This live script is intended as supplementary material for section 3 of the report. For this live script, we will create a small dataset on which to test our Support Vector Machine models, and compare our four methods on this small dataset. In order to run this script, you will need to have installed:\n",
    " - MATLAB installed locally, as well as all packages needed to run the MATLAB kernel in jupyter (for installation reference, see [this website](https://walczak.org/2017/07/using-matlab-in-jupyter-notebooks-on-windows/)). \n",
    " - Both the MOSEK optimisation package for MATLAB, as well as the YALMIP interface. \n",
    "For full details on formulations and meanings of variables and terms, please see Section 3 of the report.\n",
    "\n",
    "Alternatively, the same content can be interactively viewed through the MATLAB live script also included. \n",
    "\n",
    "### Dataset\n",
    "For easy visualisation, we will $m=16$ consider  data points, with only $n=2$ features. The first class of points (labelled as $+1$) will be lie within a square of size $2$ centred around the point $(2,2)$, whereas the second class of points (labelled as $-1$) will lie within a square of size $2$ centred at $(3,3)$. "
   ]
  },
  {
   "cell_type": "code",
   "execution_count": 31,
   "metadata": {},
   "outputs": [
    {
     "name": "stdout",
     "output_type": "stream",
     "text": [
      "\n"
     ]
    },
    {
     "data": {
      "image/png": "[encoded data removed]",
      "text/plain": [
       "<IPython.core.display.Image object>"
      ]
     },
     "metadata": {},
     "output_type": "display_data"
    }
   ],
   "source": [
    "format short\n",
    "\n",
    "m = 16;\n",
    "\n",
    "x = [2*rand(m/2,2) + 2;\n",
    "     2*rand(m/2,2) + 3];\n",
    "y = [ones(m/2,1);\n",
    "    -ones(m/2,1)];\n",
    "\n",
    "scatter(x(1:m/2,1),x(1:m/2,2),40,'s','MarkerEdgeColor',rgb('Crimson'),'MarkerFaceColor',rgb('Red'))\n",
    "hold on\n",
    "scatter(x(m/2+1:end,1),x(m/2+1:end,2),40,'^','MarkerEdgeColor',rgb('Blue'),'MarkerFaceColor',rgb('DodgerBlue'))\n",
    "xlim([1,5])\n",
    "ylim([1,5])\n",
    "axis square\n",
    "hold off"
   ]
  },
  {
   "cell_type": "markdown",
   "metadata": {},
   "source": [
    "As we can see, this data is not linearly separable, and so our soft-margin models are required. Below we implement some simple helper functions for visualising our solutions."
   ]
  },
  {
   "cell_type": "code",
   "execution_count": 4,
   "metadata": {},
   "outputs": [
    {
     "name": "stdout",
     "output_type": "stream",
     "text": [
      "Created file 'C:\\Users\\Daniel\\Desktop\\Uni\\Postgrad\\1st Year\\Term 2\\COMP9417\\Project\\COMP9417-Project-Robust-SVMS-and-Breast-Cancer-Classification\\S3 Different SVM Models\\visualise.m'.\n"
     ]
    }
   ],
   "source": [
    "%%file visualise.m\n",
    "\n",
    "function [] = visualise(m,x,y,w,gamma,sv)\n",
    "    sz = 40;\n",
    "    for i=1:m\n",
    "        if y(i) == 1\n",
    "            if isempty(sv(sv==i))\n",
    "                scatter(x(i,1),x(i,2),sz,'s','MarkerEdgeColor',rgb('Crimson'),'MarkerFaceColor',rgb('Red'))\n",
    "                hold on\n",
    "            else\n",
    "                scatter(x(i,1),x(i,2),sz,'s','MarkerEdgeColor',rgb('Green'),'MarkerFaceColor',rgb('LimeGreen'))\n",
    "                hold on\n",
    "            end\n",
    "        else\n",
    "            if isempty(sv(sv==i))\n",
    "                scatter(x(i,1),x(i,2),sz,'^','MarkerEdgeColor',rgb('Blue'),'MarkerFaceColor',rgb('DodgerBlue'))\n",
    "                hold on\n",
    "            else\n",
    "                scatter(x(i,1),x(i,2),sz,'^','MarkerEdgeColor',rgb('Green'),'MarkerFaceColor',rgb('LimeGreen'))\n",
    "                hold on\n",
    "            end\n",
    "        end\n",
    "    end\n",
    "    fimplicit(@(X,Y) w(1)*X + w(2)*Y - gamma, 'r-')\n",
    "    hold on\n",
    "    fimplicit(@(X,Y) w(1)*X + w(2)*Y - gamma - 1, 'b--')\n",
    "    hold on\n",
    "    fimplicit(@(X,Y) w(1)*X + w(2)*Y - gamma + 1, 'b--')\n",
    "    xlim([1,5])\n",
    "    ylim([1,5])\n",
    "    axis square\n",
    "end"
   ]
  },
  {
   "cell_type": "code",
   "execution_count": 5,
   "metadata": {},
   "outputs": [
    {
     "name": "stdout",
     "output_type": "stream",
     "text": [
      "Created file 'C:\\Users\\Daniel\\Desktop\\Uni\\Postgrad\\1st Year\\Term 2\\COMP9417\\Project\\COMP9417-Project-Robust-SVMS-and-Breast-Cancer-Classification\\S3 Different SVM Models\\visualise_robust.m'.\n"
     ]
    }
   ],
   "source": [
    "%%file visualise_robust.m\n",
    "\n",
    "function [] = visualise_robust(m,x,y,w,gamma,sv,r)\n",
    "    visualise(m,x,y,w,gamma,sv)\n",
    "    %also includes uncertainty regions\n",
    "    thetas = linspace(-pi,pi,50);\n",
    "    for i=1:m\n",
    "        circle_x = r(i)*cos(thetas)+x(i,1);\n",
    "        circle_y = r(i)*sin(thetas)+x(i,2);\n",
    "        plot(circle_x,circle_y,'k:','LineWidth',1)\n",
    "        hold on\n",
    "    end\n",
    "    box off\n",
    "    hold off\n",
    "end"
   ]
  },
  {
   "cell_type": "markdown",
   "metadata": {},
   "source": [
    "## Model 1. Standard SVM\n",
    "\n",
    "The standard SVM is formulated as a quadratic program in dual form:\n",
    "$$ \\min_{u\\in\\mathbb{R}^m}\\quad \\frac{1}{2} u^TYXX^TY^Tu - e^Tu \\quad\\mbox{subject to}\\quad e^TY^Tu = 0,\\quad 0\\leq u\\leq \\lambda e$$\n",
    "\n",
    "Below we create a function that takes as input, the data points $x$, their classification $y$ and the regularization parameter $\\lambda$, then solves the above optimisation problem, and returns the weights $w$ and the bias $\\gamma$, as well as an array $sv$ of indices that indicate the support vectors. "
   ]
  },
  {
   "cell_type": "code",
   "execution_count": 6,
   "metadata": {},
   "outputs": [
    {
     "name": "stdout",
     "output_type": "stream",
     "text": [
      "Created file 'C:\\Users\\Daniel\\Desktop\\Uni\\Postgrad\\1st Year\\Term 2\\COMP9417\\Project\\COMP9417-Project-Robust-SVMS-and-Breast-Cancer-Classification\\S3 Different SVM Models\\standard_svm.m'.\n"
     ]
    }
   ],
   "source": [
    "%%file standard_svm.m\n",
    "\n",
    "function [w,gamma,sv] = standard_svm(x,y,lambda)    \n",
    "    %define parameters in desired form\n",
    "    m = size(x,1); \n",
    "    Y = diag(y);\n",
    "    X = x;\n",
    "    e = ones(m,1);\n",
    "    \n",
    "    %define problem variables\n",
    "    u = sdpvar(m,1);\n",
    "    \n",
    "    %objective function\n",
    "    Obj = 0.5*u'*Y*(X*X')*Y'*u - e'*u;\n",
    "    \n",
    "    %constraints\n",
    "    C = [e'*Y'*u == 0; u >= 0; u <= lambda*e];\n",
    "    \n",
    "    %solve\n",
    "    optimize(C, Obj, sdpsettings('solver','mosek','verbose',0));\n",
    "    \n",
    "    %extract solution\n",
    "    u = value(u);\n",
    "    sv = [];\n",
    "    for i =1:m\n",
    "        if u(i) > 5*1e-8 && u(i) < lambda-5*(1e-8) %support vector, allowing for computer error\n",
    "            sv = [sv i];\n",
    "        end\n",
    "    end\n",
    "    if isempty(sv)\n",
    "        error('No solution found. Please adjust tuning parameter. ')\n",
    "    end\n",
    "    w = X'*Y'*u;\n",
    "    [~, I] = sort(u(sv),'ascend');\n",
    "    new_sv = sv(I);\n",
    "    ind = new_sv(ceil(end/2),2);\n",
    "    gamma = -(1 - y(ind)*w'*x(ind,:)')/y(ind);\n",
    "end"
   ]
  },
  {
   "cell_type": "code",
   "execution_count": 32,
   "metadata": {},
   "outputs": [
    {
     "name": "stdout",
     "output_type": "stream",
     "text": [
      "\n",
      "w =\n",
      "\n",
      "   -0.7316\n",
      "   -0.8480\n",
      "\n",
      "\n",
      "gamma =\n",
      "\n",
      "   -5.3577\n",
      "\n",
      "\n",
      "sv =\n",
      "\n",
      "     6    14\n",
      "\n",
      "\n"
     ]
    }
   ],
   "source": [
    "[w, gamma, sv] = standard_svm(x,y,0.5) "
   ]
  },
  {
   "cell_type": "markdown",
   "metadata": {},
   "source": [
    "We can visualise the solution as follows: the green points are support vectors; the red line is our classifier; the dotted blue lines are our margins. "
   ]
  },
  {
   "cell_type": "code",
   "execution_count": 33,
   "metadata": {},
   "outputs": [
    {
     "name": "stdout",
     "output_type": "stream",
     "text": [
      "\n"
     ]
    },
    {
     "data": {
      "image/png": "[encoded data removed]",
      "text/plain": [
       "<IPython.core.display.Image object>"
      ]
     },
     "metadata": {},
     "output_type": "display_data"
    }
   ],
   "source": [
    "visualise(m,x,y,w,gamma,sv)"
   ]
  },
  {
   "cell_type": "markdown",
   "metadata": {},
   "source": [
    "## Model 2: $L_1$-SVM\n",
    "\n",
    "The $L_1$-SVM is formulated and solved via a $pq$ substitution, which turns it into a linear program:\n",
    "\n",
    "$$ \\min_{p,q,\\gamma,\\xi} e_n^T(p+q) + \\lambda e_m^T\\xi\\quad\\mbox{subject to}\\quad Y(X(p-q)-e_m\\gamma)+\\xi\\geq e_m,\\quad p,q,\\xi \\geq 0 $$"
   ]
  },
  {
   "cell_type": "code",
   "execution_count": 13,
   "metadata": {},
   "outputs": [
    {
     "name": "stdout",
     "output_type": "stream",
     "text": [
      "Created file 'C:\\Users\\Daniel\\Desktop\\Uni\\Postgrad\\1st Year\\Term 2\\COMP9417\\Project\\COMP9417-Project-Robust-SVMS-and-Breast-Cancer-Classification\\S3 Different SVM Models\\l1.m'.\n"
     ]
    }
   ],
   "source": [
    "%%file l1.m\n",
    "\n",
    "function [w,gamma,sv] = l1_svm(x,y,lambda)\n",
    "    %define parameters in desired form\n",
    "    m = size(x,1); \n",
    "    n = size(x,2);\n",
    "    Y = diag(y);\n",
    "    X = x;\n",
    "    em = ones(m,1);\n",
    "    en = ones(n,1);\n",
    "    \n",
    "    %define problem variables\n",
    "    p = sdpvar(n,1);\n",
    "    q = sdpvar(n,1);\n",
    "    gamma = sdpvar(1);\n",
    "    xi = sdpvar(m,1);    \n",
    "    \n",
    "    %objective function\n",
    "    Obj = en'*(p+q) + lambda*em'*xi;\n",
    "    \n",
    "    %constraints\n",
    "    C = [Y*(X*(p-q)-em*gamma)+xi >= em; p >= 0; q >= 0; xi >= 0];\n",
    "    \n",
    "    %solve\n",
    "    optimize(C, Obj, sdpsettings('solver','mosek','verbose',0));\n",
    "    \n",
    "    %extract solution\n",
    "    p = value(p);\n",
    "    q = value(q);\n",
    "    w = value(p-q);\n",
    "    gamma = value(gamma);\n",
    "    sv = [];\n",
    "    for i =1:m\n",
    "        marg = abs(w'*x(i,:)'-gamma);\n",
    "        if marg >= 1-5*(1e-8) && marg <= 1+5*(1e-8) %support vector, allowing for computer error\n",
    "            sv = [sv i];\n",
    "        end\n",
    "    end\n",
    "end"
   ]
  },
  {
   "cell_type": "code",
   "execution_count": 34,
   "metadata": {},
   "outputs": [
    {
     "name": "stdout",
     "output_type": "stream",
     "text": [
      "\n",
      "w =\n",
      "\n",
      "   -0.6631\n",
      "   -0.9141\n",
      "\n",
      "\n",
      "gamma =\n",
      "\n",
      "   -5.4392\n",
      "\n",
      "\n",
      "sv =\n",
      "\n",
      "     5     6    14\n",
      "\n",
      "\n"
     ]
    }
   ],
   "source": [
    "[w, gamma, sv] = l1_svm(x,y,0.5)"
   ]
  },
  {
   "cell_type": "code",
   "execution_count": 35,
   "metadata": {},
   "outputs": [
    {
     "name": "stdout",
     "output_type": "stream",
     "text": [
      "\n"
     ]
    },
    {
     "data": {
      "image/png": "[encoded data removed]",
      "text/plain": [
       "<IPython.core.display.Image object>"
      ]
     },
     "metadata": {},
     "output_type": "display_data"
    }
   ],
   "source": [
    "visualise(m,x,y,w,gamma,sv)"
   ]
  },
  {
   "cell_type": "markdown",
   "metadata": {},
   "source": [
    "## Model 3. DrSVM\n",
    "\n",
    "The Doubly Regularized SVM makes use of two regularization terms: one that is $L_1$ and one that is $L_2$:\n",
    "\n",
    "$$ \\min_{u} \\frac{1}{2}u^T(\\hat{Y}(\\hat{X}(C+\\nu I)^{-1}\\hat{X}^T + \\hat{e}\\hat{e}^T)\\hat{Y} + M)u - \\hat{e}^Tu,\\quad\\mbox{subject to}\\quad u\\geq 0 $$\n",
    "\n",
    "where each parameter is defined in section 3.3 of the report. "
   ]
  },
  {
   "cell_type": "code",
   "execution_count": 54,
   "metadata": {},
   "outputs": [
    {
     "name": "stdout",
     "output_type": "stream",
     "text": [
      "Created file 'C:\\Users\\Daniel\\Desktop\\Uni\\Postgrad\\1st Year\\Term 2\\COMP9417\\Project\\COMP9417-Project-Robust-SVMS-and-Breast-Cancer-Classification\\S3 Different SVM Models\\dr_svm.m'.\n"
     ]
    }
   ],
   "source": [
    "%%file dr_svm.m\n",
    "\n",
    "function [w,gamma,sv] = dr_svm(x,y,nu)\n",
    "    %original parameters in desired form\n",
    "    m = size(x,1); \n",
    "    n = size(x,2);\n",
    "    Y = diag(y);\n",
    "    X = x;\n",
    "    e = ones(2*n+m,1);\n",
    "    eh = [ones(m,1); zeros(2*n,1)];\n",
    "    I = eye(2*n+m);\n",
    "    \n",
    "    %new problem-specific parameters\n",
    "    Yhat = [Y zeros(m,2*n); zeros(2*n, m + 2*n)];\n",
    "    Xhat = [zeros(m,m) X -X; zeros(2*n, m + 2*n)];\n",
    "    C = [zeros(m, 2*n + m); zeros(2*n, m) eye(2*n)];\n",
    "    V = inv(C+nu*I);\n",
    "    Q = (Yhat*Xhat+I)*V*(Yhat*Xhat+I)' + Yhat*eh*eh'*Yhat';\n",
    "    \n",
    "    %optimisation problem and solution\n",
    "    u = sdpvar(2*n+m,1);\n",
    "    \n",
    "    Obj = 0.5*u'*Q*u - eh'*u;    \n",
    "    C = [u >= 0];\n",
    "    \n",
    "    optimize(C,Obj,sdpsettings('verbose',0,'solver','mosek'));\n",
    "    \n",
    "    u = value(u);\n",
    "    \n",
    "    sol = V*((Yhat*Xhat)'+I)*u;\n",
    "    p = sol(m+1:m+n);\n",
    "    q = sol(m+n+1:end);\n",
    "    w = p - q;\n",
    "    gamma = -eh'*Yhat*u;\n",
    "    sv = [];\n",
    "    for i =1:m\n",
    "        marg = abs(w'*x(i,:)'-gamma);\n",
    "        if marg >= 1-(1e-2) && marg <= 1+(1e-2) %support vector, allowing for computer error\n",
    "            sv = [sv i];\n",
    "        end\n",
    "    end\n",
    "end"
   ]
  },
  {
   "cell_type": "code",
   "execution_count": 59,
   "metadata": {},
   "outputs": [
    {
     "name": "stdout",
     "output_type": "stream",
     "text": [
      "\n",
      "w =\n",
      "\n",
      "   -0.6823\n",
      "   -0.6074\n",
      "\n",
      "\n",
      "gamma =\n",
      "\n",
      "   -4.4767\n",
      "\n",
      "\n",
      "sv =\n",
      "\n",
      "     4\n",
      "\n",
      "\n"
     ]
    }
   ],
   "source": [
    "[w,gamma,sv] = dr_svm(x,y,1024)"
   ]
  },
  {
   "cell_type": "code",
   "execution_count": 61,
   "metadata": {},
   "outputs": [
    {
     "name": "stdout",
     "output_type": "stream",
     "text": [
      "\n"
     ]
    },
    {
     "data": {
      "image/png": "[encoded data removed]",
      "text/plain": [
       "<IPython.core.display.Image object>"
      ]
     },
     "metadata": {},
     "output_type": "display_data"
    }
   ],
   "source": [
    "visualise(m,x,y,w,gamma,sv)"
   ]
  },
  {
   "cell_type": "markdown",
   "metadata": {},
   "source": [
    "## Model 4: Robust SVM\n",
    "\n",
    "To demonstrate the robust SVM, we will do the following:\n",
    "  - For each datapoint $x_i, \\ i=1,\\dots,m$, we will choose a \"radius of uncertainty\" $r_i\\in [0,0.2]$, to define for each datapoint an uncertainty set $U_i(r_i) = \\bar{x}_i + r_i\\mathbb{B}_2$. \n",
    "  - We solve the corresponding optimisation problem\n",
    "  $$ \\min_{w,\\gamma,\\xi,t_1,t_2} \\frac{1}{2}t_1^2 + \\lambda t_2 \\quad\\mbox{subject to}\\quad y_i(\\bar{x}_i^Tw - \\gamma) - y_ir_i\\Vert w \\Vert_2 + \\xi_i\\geq 1, i=1,\\dots,m,\\quad \\Vert w \\Vert_2\\leq t_1,\\quad e^T\\xi\\leq t_2,\\quad \\xi \\geq 0$$\n",
    "  - We then plot the solution, and also include plots of the uncertainty regions for each datapoint."
   ]
  },
  {
   "cell_type": "code",
   "execution_count": 90,
   "metadata": {},
   "outputs": [
    {
     "name": "stdout",
     "output_type": "stream",
     "text": [
      "Created file 'c:\\Users\\Daniel\\Desktop\\Uni\\Postgrad\\1st Year\\Term 2\\COMP9417\\Project\\COMP9417-Project-Robust-SVMS-and-Breast-Cancer-Classification\\rob_svm.m'.\n"
     ]
    }
   ],
   "source": [
    "%%file rob_svm.m\n",
    "\n",
    "function [w, gamma, sv] = rob_svm(x,y,lambda,r)\n",
    "    %problem parameters\n",
    "    m = size(x,1); \n",
    "    n = size(x,2);\n",
    "    e = ones(m,1);\n",
    "    \n",
    "    %variables\n",
    "    w = sdpvar(n,1);\n",
    "    gamma = sdpvar(1);\n",
    "    xi = sdpvar(m,1);\n",
    "    t = sdpvar(2,1);\n",
    "    \n",
    "    %objective\n",
    "    Obj = 0.5*t(1)^2 + lambda*t(2);\n",
    "    \n",
    "    %constraints: socp\n",
    "    C = [norm(w,2) <= t(1); e'*xi <= t(2); xi >= 0];\n",
    "    for i = 1:m\n",
    "        C = [C; y(i)*(x(i,:)*w-gamma) - y(i)*r(i)*t(1) + xi(i) >= 1];\n",
    "    end\n",
    "    \n",
    "    %solve\n",
    "    optimize(C,Obj,sdpsettings('verbose',0,'solver','mosek'));\n",
    "    \n",
    "    w = value(w);\n",
    "    gamma = value(gamma);\n",
    "    sv = [];\n",
    "    for i =1:m\n",
    "        marg = abs(w'*x(i,:)'-gamma);\n",
    "        if marg >= 1-(1e-8) && marg <= 1+(1e-8) %support vector, allowing for computer error\n",
    "            sv = [sv i];\n",
    "        end\n",
    "    end\n",
    "end"
   ]
  },
  {
   "cell_type": "code",
   "execution_count": 62,
   "metadata": {},
   "outputs": [
    {
     "name": "stdout",
     "output_type": "stream",
     "text": [
      "\n",
      "w =\n",
      "\n",
      "   -0.8380\n",
      "   -1.0176\n",
      "\n",
      "\n",
      "gamma =\n",
      "\n",
      "   -6.3184\n",
      "\n",
      "\n",
      "sv =\n",
      "\n",
      "     []\n",
      "\n",
      "\n"
     ]
    }
   ],
   "source": [
    "r = zeros(m,1);\n",
    "for i=1:m\n",
    "    r(i) = 0.2*rand(1);\n",
    "end\n",
    "[w, gamma, sv] = rob_svm(x,y,0.8,r)"
   ]
  },
  {
   "cell_type": "code",
   "execution_count": 63,
   "metadata": {},
   "outputs": [
    {
     "name": "stdout",
     "output_type": "stream",
     "text": [
      "\n"
     ]
    },
    {
     "data": {
      "image/png": "[encoded data removed]",
      "text/plain": [
       "<IPython.core.display.Image object>"
      ]
     },
     "metadata": {},
     "output_type": "display_data"
    }
   ],
   "source": [
    "visualise_robust(m,x,y,w,gamma,sv,r)"
   ]
  },
  {
   "cell_type": "markdown",
   "metadata": {},
   "source": [
    "It is worth noting that no support vectors are shown graphically for the robust method. The reason for this is because the robust approach does not use the raw data; instead it considers the worst case in each datapoint, in their uncertainty set; these are the points from which the support vectors are drawn. This process is inherent in the robust methodology."
   ]
  }
 ],
 "metadata": {
  "kernelspec": {
   "display_name": "Matlab",
   "language": "matlab",
   "name": "matlab"
  },
  "language_info": {
   "codemirror_mode": "octave",
   "file_extension": ".m",
   "help_links": [
    {
     "text": "MetaKernel Magics",
     "url": "https://metakernel.readthedocs.io/en/latest/source/README.html"
    }
   ],
   "mimetype": "text/x-octave",
   "name": "matlab",
   "version": "0.16.9"
  }
 },
 "nbformat": 4,
 "nbformat_minor": 4
}
